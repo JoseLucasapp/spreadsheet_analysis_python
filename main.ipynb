{
 "cells": [
  {
   "cell_type": "code",
   "execution_count": 2,
   "metadata": {},
   "outputs": [],
   "source": [
    "from matplotlib import pyplot as plt, colors as pltc\n",
    "import numpy as np\n",
    "from random import sample\n",
    "\n",
    "import analysis\n",
    "\n",
    "class Generate_Charts:\n",
    "    def __init__(self, sheet_titles):\n",
    "        self.sheet_titles = sheet_titles\n",
    "\n",
    "    def autopct_format(self,values):\n",
    "        def my_format(pct):\n",
    "            total = sum(values)\n",
    "            val = int(round(pct*total/100.0))\n",
    "            return '{v:d}'.format(v=val)\n",
    "        return my_format\n",
    "\n",
    "    def championship_chart(self):\n",
    "        plt.style.use('_mpl-gallery-nogrid')\n",
    "        plt.style.use(['dark_background'])\n",
    "        x = list(self.sheet_titles.keys())\n",
    "        y = []\n",
    "\n",
    "        for i in self.sheet_titles:\n",
    "            y.append(self.sheet_titles[i][0]['titles'])\n",
    "\n",
    "        all_colors = [k for k,v in pltc.cnames.items()]\n",
    "        colors = sample(all_colors, len(y))\n",
    "\n",
    "        fig, ax = plt.subplots()\n",
    "        fig.subplots_adjust(10,0,20,20)\n",
    "        ax.set_title('Campeões', fontsize=20)\n",
    "        ax.pie(y, autopct=self.autopct_format(y),colors=colors, labels=x, radius=3, center=(4, 4),\n",
    "               wedgeprops={\"linewidth\": 1, \"edgecolor\": \"white\"}, textprops={'fontsize': 20}, frame=True)\n",
    "        \n",
    "        plt.legend(x, loc=(1.05, 0.7), shadow=True,  prop={'size': 11})\n",
    "\n",
    "        ax.set(xlim=(0, 8), xticks=np.arange(1, 8),\n",
    "               ylim=(0, 8), yticks=np.arange(1, 8))\n",
    "        plt.show()\n",
    "\n",
    "    def caller(self):\n",
    "        self.championship_chart()\n",
    "\n",
    "if (__name__ == '__main__'):\n",
    "    sheet_link = 'https://docs.google.com/spreadsheets/u/1/d/e/2PACX-1vS5qVKbg9hoLHg00Y5AqZu5XQxylCKHDjlOL0y3MtDRAVHmJcdkCp9tzi5m9kXwES8ObCqplRXHSW4M/pubhtml#'\n",
    "    data = analysis.Analysis(sheet_link)\n",
    "    data.caller()\n",
    "\n",
    "    main = Generate_Charts(data.sheet_titles)\n",
    "    main.caller()"
   ]
  }
 ],
 "metadata": {
  "kernelspec": {
   "display_name": "Python 3",
   "language": "python",
   "name": "python3"
  },
  "language_info": {
   "codemirror_mode": {
    "name": "ipython",
    "version": 3
   },
   "file_extension": ".py",
   "mimetype": "text/x-python",
   "name": "python",
   "nbconvert_exporter": "python",
   "pygments_lexer": "ipython3",
   "version": "3.11.0"
  }
 },
 "nbformat": 4,
 "nbformat_minor": 2
}
